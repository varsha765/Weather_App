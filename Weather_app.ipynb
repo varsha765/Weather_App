{
 "cells": [
  {
   "cell_type": "code",
   "execution_count": 1,
   "metadata": {},
   "outputs": [],
   "source": [
    "import tkinter as tk\n",
    "import requests\n",
    "from tkinter import font\n",
    "from tkinter import *"
   ]
  },
  {
   "cell_type": "code",
   "execution_count": 2,
   "metadata": {
    "scrolled": true
   },
   "outputs": [],
   "source": [
    "HEIGHT=400\n",
    "WIDTH=400\n",
    "def format_response(weather):\n",
    "    try:\n",
    "        name=weather['name']\n",
    "        desc=weather['weather'][0]['description']\n",
    "        temp=weather['main']['temp']\n",
    "        \n",
    "        final_str='City: %s \\nConditions: %s \\nTemperature: %s' %(name, desc, temp)\n",
    "    except:\n",
    "        final_str='There was a problem retrieving information'\n",
    "\n",
    "    return final_str\n",
    "    \n",
    "#66f275c040814b1bbd4d1f4f12ca66f7 \n",
    "#api.openweathermap.org/data/2.5/forecast?q={city name}&appid={your api key}\n",
    "def get_weather(city):\n",
    "    weather_key='66f275c040814b1bbd4d1f4f12ca66f7'\n",
    "    url='https://api.openweathermap.org/data/2.5/weather'\n",
    "    params={'APPID': weather_key, 'q': city, 'units': 'metric'}\n",
    "    response=requests.get(url,params )\n",
    "    weather=response.json()\n",
    "    label['text']=format_response(weather)\n",
    "    \n",
    "root=tk.Tk()\n",
    "canvas=tk.Canvas(root, height=HEIGHT, width=WIDTH)\n",
    "canvas.pack()\n",
    "\n",
    "background_image=tk.PhotoImage(file='landscape.gif')\n",
    "\n",
    "background_label=tk.Label(root, image=background_image)\n",
    "background_label.place(relwidth=1, relheight=1)\n",
    "\n",
    "\n",
    "frame=tk.Frame(root, bg='#80c1ff', bd=5)\n",
    "frame.place(relx=0.5, rely=0.1, relwidth=0.75, relheight=0.1, anchor='n')\n",
    "\n",
    "#button = tk.Button(frame, text='Test button', bg='gray')\n",
    "#button.pack(side='left', fill='x', expand=True)\n",
    "#button.grid(row=0, column=0)\n",
    "#button.place(relx=0, rely=0, relwidth=0.25, relheight=0.25)\n",
    "#label=tk.Label(frame, text='This is a label', bg='yellow')\n",
    "#label.pack(side='left')\n",
    "#label.grid(row=1, column=1)\n",
    "#label.place(relx=0.3, rely=0, relwidth=0.45, relheight=0.25)\n",
    "entry=tk.Entry(frame, font=('Modern'))\n",
    "#entry.grid(row=2, column=2)\n",
    "#entry.pack(side='left')\n",
    "entry.place(relx=0, rely=0, relwidth=0.65, relheight=1)\n",
    "\n",
    "button=tk.Button(frame, text='Get Weather', bg='gray', command=lambda: get_weather(entry.get()))\n",
    "button.place(relx=0.7, rely=0, relwidth=0.3, relheight=1)\n",
    "\n",
    "\n",
    "lower_frame=tk.Frame(root, bg='#80c1ff', bd=10)\n",
    "lower_frame.place(relx=0.5, rely=0.25, relwidth=0.75, relheight=0.6, anchor='n')\n",
    "\n",
    "label=tk.Label(lower_frame, font=('Courier'))\n",
    "label.place(relwidth=1, relheight=1)\n",
    "\n",
    "root.mainloop()\n"
   ]
  },
  {
   "cell_type": "code",
   "execution_count": null,
   "metadata": {},
   "outputs": [],
   "source": [
    "\n"
   ]
  },
  {
   "cell_type": "code",
   "execution_count": null,
   "metadata": {},
   "outputs": [],
   "source": [
    " "
   ]
  },
  {
   "cell_type": "code",
   "execution_count": null,
   "metadata": {},
   "outputs": [],
   "source": []
  },
  {
   "cell_type": "code",
   "execution_count": null,
   "metadata": {},
   "outputs": [],
   "source": []
  }
 ],
 "metadata": {
  "kernelspec": {
   "display_name": "Python 3",
   "language": "python",
   "name": "python3"
  },
  "language_info": {
   "codemirror_mode": {
    "name": "ipython",
    "version": 3
   },
   "file_extension": ".py",
   "mimetype": "text/x-python",
   "name": "python",
   "nbconvert_exporter": "python",
   "pygments_lexer": "ipython3",
   "version": "3.6.10"
  }
 },
 "nbformat": 4,
 "nbformat_minor": 4
}
